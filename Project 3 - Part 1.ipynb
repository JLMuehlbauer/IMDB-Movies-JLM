{
 "cells": [
  {
   "cell_type": "code",
   "execution_count": 64,
   "id": "584dad9a",
   "metadata": {},
   "outputs": [],
   "source": [
    "# Imports\n",
    "import pandas as pd\n",
    "import numpy as np\n",
    "import os"
   ]
  },
  {
   "cell_type": "code",
   "execution_count": 42,
   "id": "cf8477ee",
   "metadata": {},
   "outputs": [],
   "source": [
    "# Load data\n",
    "basics_url = 'https://datasets.imdbws.com/title.basics.tsv.gz'\n",
    "akas_url = 'https://datasets.imdbws.com/title.akas.tsv.gz'\n",
    "ratings_url = 'https://datasets.imdbws.com/title.ratings.tsv.gz'\n",
    "\n",
    "basics = pd.read_csv(basics_url, sep = '\\t', low_memory = False)\n",
    "akas = pd.read_csv(akas_url, sep = '\\t', low_memory = False)\n",
    "ratings = pd.read_csv(ratings_url, sep = '\\t', low_memory = False)"
   ]
  },
  {
   "cell_type": "code",
   "execution_count": 43,
   "id": "32790ac4",
   "metadata": {},
   "outputs": [
    {
     "data": {
      "text/html": [
       "<div>\n",
       "<style scoped>\n",
       "    .dataframe tbody tr th:only-of-type {\n",
       "        vertical-align: middle;\n",
       "    }\n",
       "\n",
       "    .dataframe tbody tr th {\n",
       "        vertical-align: top;\n",
       "    }\n",
       "\n",
       "    .dataframe thead th {\n",
       "        text-align: right;\n",
       "    }\n",
       "</style>\n",
       "<table border=\"1\" class=\"dataframe\">\n",
       "  <thead>\n",
       "    <tr style=\"text-align: right;\">\n",
       "      <th></th>\n",
       "      <th>tconst</th>\n",
       "      <th>titleType</th>\n",
       "      <th>primaryTitle</th>\n",
       "      <th>originalTitle</th>\n",
       "      <th>isAdult</th>\n",
       "      <th>startYear</th>\n",
       "      <th>endYear</th>\n",
       "      <th>runtimeMinutes</th>\n",
       "      <th>genres</th>\n",
       "    </tr>\n",
       "  </thead>\n",
       "  <tbody>\n",
       "    <tr>\n",
       "      <th>0</th>\n",
       "      <td>tt0000001</td>\n",
       "      <td>short</td>\n",
       "      <td>Carmencita</td>\n",
       "      <td>Carmencita</td>\n",
       "      <td>0</td>\n",
       "      <td>1894</td>\n",
       "      <td>\\N</td>\n",
       "      <td>1</td>\n",
       "      <td>Documentary,Short</td>\n",
       "    </tr>\n",
       "    <tr>\n",
       "      <th>1</th>\n",
       "      <td>tt0000002</td>\n",
       "      <td>short</td>\n",
       "      <td>Le clown et ses chiens</td>\n",
       "      <td>Le clown et ses chiens</td>\n",
       "      <td>0</td>\n",
       "      <td>1892</td>\n",
       "      <td>\\N</td>\n",
       "      <td>5</td>\n",
       "      <td>Animation,Short</td>\n",
       "    </tr>\n",
       "    <tr>\n",
       "      <th>2</th>\n",
       "      <td>tt0000003</td>\n",
       "      <td>short</td>\n",
       "      <td>Pauvre Pierrot</td>\n",
       "      <td>Pauvre Pierrot</td>\n",
       "      <td>0</td>\n",
       "      <td>1892</td>\n",
       "      <td>\\N</td>\n",
       "      <td>4</td>\n",
       "      <td>Animation,Comedy,Romance</td>\n",
       "    </tr>\n",
       "    <tr>\n",
       "      <th>3</th>\n",
       "      <td>tt0000004</td>\n",
       "      <td>short</td>\n",
       "      <td>Un bon bock</td>\n",
       "      <td>Un bon bock</td>\n",
       "      <td>0</td>\n",
       "      <td>1892</td>\n",
       "      <td>\\N</td>\n",
       "      <td>12</td>\n",
       "      <td>Animation,Short</td>\n",
       "    </tr>\n",
       "    <tr>\n",
       "      <th>4</th>\n",
       "      <td>tt0000005</td>\n",
       "      <td>short</td>\n",
       "      <td>Blacksmith Scene</td>\n",
       "      <td>Blacksmith Scene</td>\n",
       "      <td>0</td>\n",
       "      <td>1893</td>\n",
       "      <td>\\N</td>\n",
       "      <td>1</td>\n",
       "      <td>Comedy,Short</td>\n",
       "    </tr>\n",
       "  </tbody>\n",
       "</table>\n",
       "</div>"
      ],
      "text/plain": [
       "      tconst titleType            primaryTitle           originalTitle  \\\n",
       "0  tt0000001     short              Carmencita              Carmencita   \n",
       "1  tt0000002     short  Le clown et ses chiens  Le clown et ses chiens   \n",
       "2  tt0000003     short          Pauvre Pierrot          Pauvre Pierrot   \n",
       "3  tt0000004     short             Un bon bock             Un bon bock   \n",
       "4  tt0000005     short        Blacksmith Scene        Blacksmith Scene   \n",
       "\n",
       "  isAdult startYear endYear runtimeMinutes                    genres  \n",
       "0       0      1894      \\N              1         Documentary,Short  \n",
       "1       0      1892      \\N              5           Animation,Short  \n",
       "2       0      1892      \\N              4  Animation,Comedy,Romance  \n",
       "3       0      1892      \\N             12           Animation,Short  \n",
       "4       0      1893      \\N              1              Comedy,Short  "
      ]
     },
     "execution_count": 43,
     "metadata": {},
     "output_type": "execute_result"
    }
   ],
   "source": [
    "basics.head()"
   ]
  },
  {
   "cell_type": "code",
   "execution_count": 44,
   "id": "4a8fe795",
   "metadata": {},
   "outputs": [],
   "source": [
    "# Encode missing values with NaN\n",
    "basics.replace({'\\\\N': np.nan}, inplace = True)\n",
    "akas.replace({'\\\\N': np.nan}, inplace = True)\n",
    "ratings.replace({'\\\\N': np.nan}, inplace = True)"
   ]
  },
  {
   "cell_type": "code",
   "execution_count": 45,
   "id": "92075703",
   "metadata": {},
   "outputs": [
    {
     "data": {
      "text/html": [
       "<div>\n",
       "<style scoped>\n",
       "    .dataframe tbody tr th:only-of-type {\n",
       "        vertical-align: middle;\n",
       "    }\n",
       "\n",
       "    .dataframe tbody tr th {\n",
       "        vertical-align: top;\n",
       "    }\n",
       "\n",
       "    .dataframe thead th {\n",
       "        text-align: right;\n",
       "    }\n",
       "</style>\n",
       "<table border=\"1\" class=\"dataframe\">\n",
       "  <thead>\n",
       "    <tr style=\"text-align: right;\">\n",
       "      <th></th>\n",
       "      <th>tconst</th>\n",
       "      <th>titleType</th>\n",
       "      <th>primaryTitle</th>\n",
       "      <th>originalTitle</th>\n",
       "      <th>isAdult</th>\n",
       "      <th>startYear</th>\n",
       "      <th>endYear</th>\n",
       "      <th>runtimeMinutes</th>\n",
       "      <th>genres</th>\n",
       "    </tr>\n",
       "  </thead>\n",
       "  <tbody>\n",
       "    <tr>\n",
       "      <th>0</th>\n",
       "      <td>tt0000001</td>\n",
       "      <td>short</td>\n",
       "      <td>Carmencita</td>\n",
       "      <td>Carmencita</td>\n",
       "      <td>0</td>\n",
       "      <td>1894</td>\n",
       "      <td>NaN</td>\n",
       "      <td>1</td>\n",
       "      <td>Documentary,Short</td>\n",
       "    </tr>\n",
       "    <tr>\n",
       "      <th>1</th>\n",
       "      <td>tt0000002</td>\n",
       "      <td>short</td>\n",
       "      <td>Le clown et ses chiens</td>\n",
       "      <td>Le clown et ses chiens</td>\n",
       "      <td>0</td>\n",
       "      <td>1892</td>\n",
       "      <td>NaN</td>\n",
       "      <td>5</td>\n",
       "      <td>Animation,Short</td>\n",
       "    </tr>\n",
       "    <tr>\n",
       "      <th>2</th>\n",
       "      <td>tt0000003</td>\n",
       "      <td>short</td>\n",
       "      <td>Pauvre Pierrot</td>\n",
       "      <td>Pauvre Pierrot</td>\n",
       "      <td>0</td>\n",
       "      <td>1892</td>\n",
       "      <td>NaN</td>\n",
       "      <td>4</td>\n",
       "      <td>Animation,Comedy,Romance</td>\n",
       "    </tr>\n",
       "    <tr>\n",
       "      <th>3</th>\n",
       "      <td>tt0000004</td>\n",
       "      <td>short</td>\n",
       "      <td>Un bon bock</td>\n",
       "      <td>Un bon bock</td>\n",
       "      <td>0</td>\n",
       "      <td>1892</td>\n",
       "      <td>NaN</td>\n",
       "      <td>12</td>\n",
       "      <td>Animation,Short</td>\n",
       "    </tr>\n",
       "    <tr>\n",
       "      <th>4</th>\n",
       "      <td>tt0000005</td>\n",
       "      <td>short</td>\n",
       "      <td>Blacksmith Scene</td>\n",
       "      <td>Blacksmith Scene</td>\n",
       "      <td>0</td>\n",
       "      <td>1893</td>\n",
       "      <td>NaN</td>\n",
       "      <td>1</td>\n",
       "      <td>Comedy,Short</td>\n",
       "    </tr>\n",
       "  </tbody>\n",
       "</table>\n",
       "</div>"
      ],
      "text/plain": [
       "      tconst titleType            primaryTitle           originalTitle  \\\n",
       "0  tt0000001     short              Carmencita              Carmencita   \n",
       "1  tt0000002     short  Le clown et ses chiens  Le clown et ses chiens   \n",
       "2  tt0000003     short          Pauvre Pierrot          Pauvre Pierrot   \n",
       "3  tt0000004     short             Un bon bock             Un bon bock   \n",
       "4  tt0000005     short        Blacksmith Scene        Blacksmith Scene   \n",
       "\n",
       "  isAdult startYear endYear runtimeMinutes                    genres  \n",
       "0       0      1894     NaN              1         Documentary,Short  \n",
       "1       0      1892     NaN              5           Animation,Short  \n",
       "2       0      1892     NaN              4  Animation,Comedy,Romance  \n",
       "3       0      1892     NaN             12           Animation,Short  \n",
       "4       0      1893     NaN              1              Comedy,Short  "
      ]
     },
     "execution_count": 45,
     "metadata": {},
     "output_type": "execute_result"
    }
   ],
   "source": [
    "basics.head()"
   ]
  },
  {
   "cell_type": "code",
   "execution_count": 46,
   "id": "9f8cc842",
   "metadata": {},
   "outputs": [
    {
     "name": "stdout",
     "output_type": "stream",
     "text": [
      "(9627093, 9)\n",
      "(2818952, 9)\n"
     ]
    }
   ],
   "source": [
    "# Eliminate movies that are null for runtimeMinutes\n",
    "print(basics.shape)\n",
    "basics.dropna(subset = ['runtimeMinutes'], inplace = True)\n",
    "print(basics.shape)"
   ]
  },
  {
   "cell_type": "code",
   "execution_count": 47,
   "id": "07a83208",
   "metadata": {},
   "outputs": [
    {
     "name": "stdout",
     "output_type": "stream",
     "text": [
      "(2818952, 9)\n",
      "(2743381, 9)\n"
     ]
    }
   ],
   "source": [
    "# Eliminate movies that are null for genres\n",
    "print(basics.shape)\n",
    "basics.dropna(subset = ['genres'], inplace = True)\n",
    "print(basics.shape)"
   ]
  },
  {
   "cell_type": "code",
   "execution_count": 48,
   "id": "a73097db",
   "metadata": {},
   "outputs": [
    {
     "data": {
      "text/plain": [
       "array(['short', 'movie', 'tvSeries', 'tvShort', 'tvMovie', 'tvEpisode',\n",
       "       'tvMiniSeries', 'video', 'tvSpecial', 'videoGame'], dtype=object)"
      ]
     },
     "execution_count": 48,
     "metadata": {},
     "output_type": "execute_result"
    }
   ],
   "source": [
    "basics['titleType'].unique()"
   ]
  },
  {
   "cell_type": "code",
   "execution_count": 49,
   "id": "109b4811",
   "metadata": {},
   "outputs": [
    {
     "name": "stdout",
     "output_type": "stream",
     "text": [
      "(2743381, 9)\n",
      "(377453, 9)\n"
     ]
    }
   ],
   "source": [
    "# keep only titleType==Movie\n",
    "print(basics.shape)\n",
    "basics = basics.loc[basics['titleType'] == 'movie', :]\n",
    "print(basics.shape)"
   ]
  },
  {
   "cell_type": "code",
   "execution_count": 50,
   "id": "470af586",
   "metadata": {
    "scrolled": true
   },
   "outputs": [
    {
     "name": "stdout",
     "output_type": "stream",
     "text": [
      "<class 'pandas.core.frame.DataFrame'>\n",
      "Int64Index: 377453 entries, 8 to 9627043\n",
      "Data columns (total 9 columns):\n",
      " #   Column          Non-Null Count   Dtype \n",
      "---  ------          --------------   ----- \n",
      " 0   tconst          377453 non-null  object\n",
      " 1   titleType       377453 non-null  object\n",
      " 2   primaryTitle    377453 non-null  object\n",
      " 3   originalTitle   377453 non-null  object\n",
      " 4   isAdult         377453 non-null  object\n",
      " 5   startYear       371076 non-null  object\n",
      " 6   endYear         0 non-null       object\n",
      " 7   runtimeMinutes  377453 non-null  object\n",
      " 8   genres          377453 non-null  object\n",
      "dtypes: object(9)\n",
      "memory usage: 28.8+ MB\n"
     ]
    }
   ],
   "source": [
    "# Checking dtypes\n",
    "basics.info()"
   ]
  },
  {
   "cell_type": "code",
   "execution_count": 51,
   "id": "f86a8255",
   "metadata": {},
   "outputs": [
    {
     "name": "stdout",
     "output_type": "stream",
     "text": [
      "<class 'pandas.core.frame.DataFrame'>\n",
      "Int64Index: 377453 entries, 8 to 9627043\n",
      "Data columns (total 9 columns):\n",
      " #   Column          Non-Null Count   Dtype  \n",
      "---  ------          --------------   -----  \n",
      " 0   tconst          377453 non-null  object \n",
      " 1   titleType       377453 non-null  object \n",
      " 2   primaryTitle    377453 non-null  object \n",
      " 3   originalTitle   377453 non-null  object \n",
      " 4   isAdult         377453 non-null  int64  \n",
      " 5   startYear       371076 non-null  float64\n",
      " 6   endYear         0 non-null       float64\n",
      " 7   runtimeMinutes  377453 non-null  int64  \n",
      " 8   genres          377453 non-null  object \n",
      "dtypes: float64(2), int64(2), object(5)\n",
      "memory usage: 28.8+ MB\n"
     ]
    }
   ],
   "source": [
    "#Changing dtypes\n",
    "basics['isAdult'] = basics['isAdult'].astype(int)\n",
    "basics['startYear'] = basics['startYear'].astype(float)\n",
    "basics['endYear'] = basics['endYear'].astype(float)\n",
    "basics['runtimeMinutes'] = basics['runtimeMinutes'].astype(int)\n",
    "basics.info()"
   ]
  },
  {
   "cell_type": "code",
   "execution_count": 52,
   "id": "a7e165bd",
   "metadata": {},
   "outputs": [
    {
     "name": "stdout",
     "output_type": "stream",
     "text": [
      "(377453, 9)\n",
      "(221646, 9)\n"
     ]
    }
   ],
   "source": [
    "# keep startYear 2000-2022\n",
    "print(basics.shape)\n",
    "year_filter = (basics['startYear'] >= 2000) & (basics['startYear'] <= 2022)\n",
    "basics = basics.loc[year_filter, :]\n",
    "print(basics.shape)"
   ]
  },
  {
   "cell_type": "code",
   "execution_count": 53,
   "id": "a4b356d5",
   "metadata": {},
   "outputs": [
    {
     "name": "stdout",
     "output_type": "stream",
     "text": [
      "221646\n",
      "146558\n"
     ]
    }
   ],
   "source": [
    "# Eliminate movies that include \"Documentary\" in genre\n",
    "#basics['genres'].unique()\n",
    "print(basics.shape[0])\n",
    "is_documentary = basics['genres'].str.contains('documentary',case=False)\n",
    "basics = basics.loc[~is_documentary, :]\n",
    "print(basics.shape[0])"
   ]
  },
  {
   "cell_type": "code",
   "execution_count": 40,
   "id": "31a9ab00",
   "metadata": {},
   "outputs": [
    {
     "data": {
      "text/plain": [
       "array(['UA', 'DE', 'HU', 'GR', 'RU', 'US', nan, 'JP', 'FR', 'RO', 'GB',\n",
       "       'CA', 'PT', 'AU', 'ES', 'FI', 'PL', 'AR', 'RS', 'UY', 'IT', 'BR',\n",
       "       'DK', 'TR', 'XWW', 'XEU', 'SK', 'CZ', 'SE', 'NZ', 'MX', 'NO',\n",
       "       'XYU', 'AT', 'VE', 'CSHH', 'SI', 'SUHH', 'IN', 'TW', 'LT', 'NL',\n",
       "       'CO', 'IR', 'BG', 'SG', 'BE', 'VN', 'HR', 'DZ', 'CH', 'BF', 'PH',\n",
       "       'XWG', 'HK', 'CN', 'XSA', 'EE', 'IS', 'PR', 'DDDE', 'IL', 'EG',\n",
       "       'XKO', 'CL', 'IE', 'JM', 'KR', 'PE', 'GE', 'BY', 'BA', 'AE', 'PA',\n",
       "       'TH', 'ZA', 'TJ', 'XSI', 'MY', 'LV', 'ID', 'PK', 'BD', 'CU', 'AL',\n",
       "       'BO', 'EC', 'XAS', 'CR', 'PY', 'DO', 'GT', 'SV', 'UZ', 'BUMM',\n",
       "       'YUCS', 'XPI', 'BJ', 'AZ', 'NG', 'CM', 'MA', 'GL', 'MN', 'LI',\n",
       "       'LU', 'MZ', 'BM', 'KZ', 'MD', 'LB', 'IQ', 'TM', 'MK', 'TN', 'HT',\n",
       "       'AM', 'LK', 'ME', 'CG', 'CI', 'SY', 'NP', 'QA', 'TO', 'SN', 'GH',\n",
       "       'JO', 'KP', 'KG', 'NE', 'GN', 'VDVN', 'TD', 'SO', 'SD', 'MC', 'TT',\n",
       "       'GA', 'BS', 'LY', 'AO', 'KH', 'MR', 'AF', 'MG', 'ML', 'GY', 'CY',\n",
       "       'ET', 'GU', 'SR', 'MT', 'TG', 'PG', 'MU', 'BI', 'CF', 'NI', 'ZW',\n",
       "       'ZM', 'GW', 'DJ', 'RW', 'TZ', 'GI', 'LA', 'SC', 'GP', 'XAU', 'FO',\n",
       "       'PS', 'ZRCD', 'MO', 'AW', 'KW', 'CV', 'SL', 'SM', 'CD', 'BT', 'LS',\n",
       "       'HN', 'KE', 'MQ', 'AD', 'ER', 'MM', 'SA', 'CSXX', 'IM', 'XKV',\n",
       "       'BH', 'BB', 'BZ', 'UG', 'AG', 'NU', 'OM', 'BW', 'LR', 'AN', 'MV',\n",
       "       'YE', 'GM', 'KY', 'NC', 'DM', 'TL', 'MP', 'VA', 'GQ', 'FJ', 'SZ',\n",
       "       'RE', 'EH', 'PF', 'VG', 'LC', 'MW', 'BN', 'ST', 'KM', 'FM', 'AI',\n",
       "       'GD', 'VI', 'SB', 'GF', 'AQ', 'MH', 'CW', 'WS', 'VC', 'AS', 'XNA',\n",
       "       'MS', 'VU', 'SH', 'KI', 'KN', 'CC', 'GS', 'TV', 'CK', 'PW', 'NR',\n",
       "       'JE', 'TC'], dtype=object)"
      ]
     },
     "execution_count": 40,
     "metadata": {},
     "output_type": "execute_result"
    }
   ],
   "source": [
    "# Checking akas\n",
    "akas.head()\n",
    "akas['region'].unique()"
   ]
  },
  {
   "cell_type": "code",
   "execution_count": 54,
   "id": "eac1fd3f",
   "metadata": {},
   "outputs": [
    {
     "name": "stdout",
     "output_type": "stream",
     "text": [
      "34984864\n",
      "1415820\n"
     ]
    }
   ],
   "source": [
    "# Keep only US movies\n",
    "print(akas.shape[0])\n",
    "akas = akas.loc[akas['region'] == 'US', :]\n",
    "print(akas.shape[0])"
   ]
  },
  {
   "cell_type": "code",
   "execution_count": 55,
   "id": "10c1af20",
   "metadata": {},
   "outputs": [
    {
     "data": {
      "text/plain": [
       "True     85548\n",
       "False    61010\n",
       "Name: tconst, dtype: int64"
      ]
     },
     "execution_count": 55,
     "metadata": {},
     "output_type": "execute_result"
    }
   ],
   "source": [
    "# Keep only US movies in basics df\n",
    "keepers =basics['tconst'].isin(akas['titleId'])\n",
    "keepers.value_counts()"
   ]
  },
  {
   "cell_type": "code",
   "execution_count": 57,
   "id": "7faed202",
   "metadata": {
    "scrolled": true
   },
   "outputs": [
    {
     "name": "stdout",
     "output_type": "stream",
     "text": [
      "146558\n",
      "85548\n"
     ]
    }
   ],
   "source": [
    "# Keep only US movies in basics df\n",
    "print(basics.shape[0])\n",
    "basics = basics[keepers]\n",
    "print(basics.shape[0])"
   ]
  },
  {
   "cell_type": "code",
   "execution_count": 58,
   "id": "25cd274f",
   "metadata": {},
   "outputs": [
    {
     "data": {
      "text/plain": [
       "False    792082\n",
       "True     489683\n",
       "Name: tconst, dtype: int64"
      ]
     },
     "execution_count": 58,
     "metadata": {},
     "output_type": "execute_result"
    }
   ],
   "source": [
    "# Keep only US movies in ratings df\n",
    "keepers = ratings['tconst'].isin(akas['titleId'])\n",
    "keepers.value_counts()"
   ]
  },
  {
   "cell_type": "code",
   "execution_count": 59,
   "id": "38f6a3c9",
   "metadata": {},
   "outputs": [
    {
     "name": "stdout",
     "output_type": "stream",
     "text": [
      "1281765\n",
      "489683\n"
     ]
    }
   ],
   "source": [
    "# Keep only US movies in basics df\n",
    "print(ratings.shape[0])\n",
    "ratings = ratings[keepers]\n",
    "print(ratings.shape[0])"
   ]
  },
  {
   "cell_type": "code",
   "execution_count": 65,
   "id": "a008d4f1",
   "metadata": {},
   "outputs": [
    {
     "data": {
      "text/plain": [
       "[]"
      ]
     },
     "execution_count": 65,
     "metadata": {},
     "output_type": "execute_result"
    }
   ],
   "source": [
    "# Making Data Folder\n",
    "os.makedirs('Data/',exist_ok=True) \n",
    "# Confirm folder created\n",
    "os.listdir(\"Data/\")"
   ]
  },
  {
   "cell_type": "code",
   "execution_count": 66,
   "id": "e087d729",
   "metadata": {},
   "outputs": [],
   "source": [
    "# Saving CSVs for each dataframe\n",
    "basics.to_csv('Data/title_basics.csv.gz', compression = 'gzip', index = False)"
   ]
  },
  {
   "cell_type": "code",
   "execution_count": 67,
   "id": "0f67a87c",
   "metadata": {},
   "outputs": [
    {
     "data": {
      "text/html": [
       "<div>\n",
       "<style scoped>\n",
       "    .dataframe tbody tr th:only-of-type {\n",
       "        vertical-align: middle;\n",
       "    }\n",
       "\n",
       "    .dataframe tbody tr th {\n",
       "        vertical-align: top;\n",
       "    }\n",
       "\n",
       "    .dataframe thead th {\n",
       "        text-align: right;\n",
       "    }\n",
       "</style>\n",
       "<table border=\"1\" class=\"dataframe\">\n",
       "  <thead>\n",
       "    <tr style=\"text-align: right;\">\n",
       "      <th></th>\n",
       "      <th>tconst</th>\n",
       "      <th>titleType</th>\n",
       "      <th>primaryTitle</th>\n",
       "      <th>originalTitle</th>\n",
       "      <th>isAdult</th>\n",
       "      <th>startYear</th>\n",
       "      <th>endYear</th>\n",
       "      <th>runtimeMinutes</th>\n",
       "      <th>genres</th>\n",
       "    </tr>\n",
       "  </thead>\n",
       "  <tbody>\n",
       "    <tr>\n",
       "      <th>0</th>\n",
       "      <td>tt0035423</td>\n",
       "      <td>movie</td>\n",
       "      <td>Kate &amp; Leopold</td>\n",
       "      <td>Kate &amp; Leopold</td>\n",
       "      <td>0</td>\n",
       "      <td>2001.0</td>\n",
       "      <td>NaN</td>\n",
       "      <td>118</td>\n",
       "      <td>Comedy,Fantasy,Romance</td>\n",
       "    </tr>\n",
       "    <tr>\n",
       "      <th>1</th>\n",
       "      <td>tt0062336</td>\n",
       "      <td>movie</td>\n",
       "      <td>The Tango of the Widower and Its Distorting Mi...</td>\n",
       "      <td>El tango del viudo y su espejo deformante</td>\n",
       "      <td>0</td>\n",
       "      <td>2020.0</td>\n",
       "      <td>NaN</td>\n",
       "      <td>70</td>\n",
       "      <td>Drama</td>\n",
       "    </tr>\n",
       "    <tr>\n",
       "      <th>2</th>\n",
       "      <td>tt0069049</td>\n",
       "      <td>movie</td>\n",
       "      <td>The Other Side of the Wind</td>\n",
       "      <td>The Other Side of the Wind</td>\n",
       "      <td>0</td>\n",
       "      <td>2018.0</td>\n",
       "      <td>NaN</td>\n",
       "      <td>122</td>\n",
       "      <td>Drama</td>\n",
       "    </tr>\n",
       "    <tr>\n",
       "      <th>3</th>\n",
       "      <td>tt0088751</td>\n",
       "      <td>movie</td>\n",
       "      <td>The Naked Monster</td>\n",
       "      <td>The Naked Monster</td>\n",
       "      <td>0</td>\n",
       "      <td>2005.0</td>\n",
       "      <td>NaN</td>\n",
       "      <td>100</td>\n",
       "      <td>Comedy,Horror,Sci-Fi</td>\n",
       "    </tr>\n",
       "    <tr>\n",
       "      <th>4</th>\n",
       "      <td>tt0096056</td>\n",
       "      <td>movie</td>\n",
       "      <td>Crime and Punishment</td>\n",
       "      <td>Crime and Punishment</td>\n",
       "      <td>0</td>\n",
       "      <td>2002.0</td>\n",
       "      <td>NaN</td>\n",
       "      <td>126</td>\n",
       "      <td>Drama</td>\n",
       "    </tr>\n",
       "  </tbody>\n",
       "</table>\n",
       "</div>"
      ],
      "text/plain": [
       "      tconst titleType                                       primaryTitle  \\\n",
       "0  tt0035423     movie                                     Kate & Leopold   \n",
       "1  tt0062336     movie  The Tango of the Widower and Its Distorting Mi...   \n",
       "2  tt0069049     movie                         The Other Side of the Wind   \n",
       "3  tt0088751     movie                                  The Naked Monster   \n",
       "4  tt0096056     movie                               Crime and Punishment   \n",
       "\n",
       "                               originalTitle  isAdult  startYear  endYear  \\\n",
       "0                             Kate & Leopold        0     2001.0      NaN   \n",
       "1  El tango del viudo y su espejo deformante        0     2020.0      NaN   \n",
       "2                 The Other Side of the Wind        0     2018.0      NaN   \n",
       "3                          The Naked Monster        0     2005.0      NaN   \n",
       "4                       Crime and Punishment        0     2002.0      NaN   \n",
       "\n",
       "   runtimeMinutes                  genres  \n",
       "0             118  Comedy,Fantasy,Romance  \n",
       "1              70                   Drama  \n",
       "2             122                   Drama  \n",
       "3             100    Comedy,Horror,Sci-Fi  \n",
       "4             126                   Drama  "
      ]
     },
     "execution_count": 67,
     "metadata": {},
     "output_type": "execute_result"
    }
   ],
   "source": [
    "# Open saved file and preview again\n",
    "basics = pd.read_csv(\"Data/title_basics.csv.gz\", low_memory = False)\n",
    "basics.head()"
   ]
  },
  {
   "cell_type": "code",
   "execution_count": 68,
   "id": "af168739",
   "metadata": {},
   "outputs": [],
   "source": [
    "# Saving CSVs for each dataframe\n",
    "akas.to_csv('Data/title_akas.csv.gz', compression = 'gzip', index = False)\n",
    "ratings.to_csv('Data/title_ratings.csv.gz', compression = 'gzip', index = False)"
   ]
  },
  {
   "cell_type": "code",
   "execution_count": 70,
   "id": "28e208ea",
   "metadata": {},
   "outputs": [
    {
     "name": "stdout",
     "output_type": "stream",
     "text": [
      "<class 'pandas.core.frame.DataFrame'>\n",
      "RangeIndex: 85548 entries, 0 to 85547\n",
      "Data columns (total 9 columns):\n",
      " #   Column          Non-Null Count  Dtype  \n",
      "---  ------          --------------  -----  \n",
      " 0   tconst          85548 non-null  object \n",
      " 1   titleType       85548 non-null  object \n",
      " 2   primaryTitle    85548 non-null  object \n",
      " 3   originalTitle   85548 non-null  object \n",
      " 4   isAdult         85548 non-null  int64  \n",
      " 5   startYear       85548 non-null  float64\n",
      " 6   endYear         0 non-null      float64\n",
      " 7   runtimeMinutes  85548 non-null  int64  \n",
      " 8   genres          85548 non-null  object \n",
      "dtypes: float64(2), int64(2), object(5)\n",
      "memory usage: 5.9+ MB\n",
      "\n",
      "\n",
      "<class 'pandas.core.frame.DataFrame'>\n",
      "Int64Index: 1415820 entries, 5 to 34984608\n",
      "Data columns (total 8 columns):\n",
      " #   Column           Non-Null Count    Dtype \n",
      "---  ------           --------------    ----- \n",
      " 0   titleId          1415820 non-null  object\n",
      " 1   ordering         1415820 non-null  int64 \n",
      " 2   title            1415820 non-null  object\n",
      " 3   region           1415820 non-null  object\n",
      " 4   language         3829 non-null     object\n",
      " 5   types            973958 non-null   object\n",
      " 6   attributes       46001 non-null    object\n",
      " 7   isOriginalTitle  1414475 non-null  object\n",
      "dtypes: int64(1), object(7)\n",
      "memory usage: 97.2+ MB\n",
      "\n",
      "\n",
      "<class 'pandas.core.frame.DataFrame'>\n",
      "Int64Index: 489683 entries, 0 to 1281743\n",
      "Data columns (total 3 columns):\n",
      " #   Column         Non-Null Count   Dtype  \n",
      "---  ------         --------------   -----  \n",
      " 0   tconst         489683 non-null  object \n",
      " 1   averageRating  489683 non-null  float64\n",
      " 2   numVotes       489683 non-null  int64  \n",
      "dtypes: float64(1), int64(1), object(1)\n",
      "memory usage: 14.9+ MB\n"
     ]
    }
   ],
   "source": [
    "# Final check\n",
    "basics.info()\n",
    "print('\\n')\n",
    "akas.info()\n",
    "print('\\n')\n",
    "ratings.info()"
   ]
  }
 ],
 "metadata": {
  "kernelspec": {
   "display_name": "Python (dojo-env)",
   "language": "python",
   "name": "dojo-env"
  },
  "language_info": {
   "codemirror_mode": {
    "name": "ipython",
    "version": 3
   },
   "file_extension": ".py",
   "mimetype": "text/x-python",
   "name": "python",
   "nbconvert_exporter": "python",
   "pygments_lexer": "ipython3",
   "version": "3.9.15"
  },
  "toc": {
   "base_numbering": 1,
   "nav_menu": {},
   "number_sections": false,
   "sideBar": true,
   "skip_h1_title": false,
   "title_cell": "Table of Contents",
   "title_sidebar": "Contents",
   "toc_cell": false,
   "toc_position": {},
   "toc_section_display": true,
   "toc_window_display": false
  }
 },
 "nbformat": 4,
 "nbformat_minor": 5
}
