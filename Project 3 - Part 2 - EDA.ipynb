{
 "cells": [
  {
   "cell_type": "markdown",
   "id": "3343251c",
   "metadata": {},
   "source": [
    "# Project 1 Part 2: EDA\n",
    "---\n",
    "\n",
    "Author: Jackson Muehlbauer\n",
    "\n",
    "Date: 3/1/2023"
   ]
  },
  {
   "cell_type": "code",
   "execution_count": 89,
   "id": "e2ed2ff4",
   "metadata": {},
   "outputs": [],
   "source": [
    "# imports \n",
    "import pandas as pd\n",
    "import numpy as np\n",
    "import json\n",
    "import matplotlib.pyplot as plt\n",
    "import seaborn as sns\n",
    "from matplotlib.ticker import FuncFormatter"
   ]
  },
  {
   "cell_type": "code",
   "execution_count": 94,
   "id": "db17945f",
   "metadata": {},
   "outputs": [],
   "source": [
    "# Making bar plot function to display the counts of the unique entries in the categorical fields\n",
    "def make_bar(data, x, y):\n",
    "  '''\n",
    "  data = pandas dataframe\n",
    "  x = field name\n",
    "  y = string for field name\n",
    "  '''\n",
    "  fig, ax = plt.subplots()\n",
    "\n",
    "  # Create a dataframe with the value counts for the specified column, sort descending. \n",
    "  counts = data[x].value_counts().sort_values(ascending = False).to_frame()\n",
    "  \n",
    "  sns.barplot(data = counts, x = counts.index, y = counts[x], ax=ax, edgecolor = 'k')\n",
    "  plt.xticks(rotation = 90)\n",
    "  plt.xlabel(f'{y}')\n",
    "  plt.ylabel(f'Counts for each {y} category')\n",
    "\n",
    "  return fig, ax"
   ]
  },
  {
   "cell_type": "code",
   "execution_count": 91,
   "id": "1538e310",
   "metadata": {},
   "outputs": [],
   "source": [
    "def million_m(x,pos):\n",
    "  \"\"\"function for use with matplotlib FuncFormatter - formats money in millions\"\"\"\n",
    "  return f'${x*1e-6:,.0f}M'"
   ]
  },
  {
   "cell_type": "code",
   "execution_count": 79,
   "id": "66cc8c93",
   "metadata": {
    "scrolled": true
   },
   "outputs": [
    {
     "data": {
      "text/html": [
       "<div>\n",
       "<style scoped>\n",
       "    .dataframe tbody tr th:only-of-type {\n",
       "        vertical-align: middle;\n",
       "    }\n",
       "\n",
       "    .dataframe tbody tr th {\n",
       "        vertical-align: top;\n",
       "    }\n",
       "\n",
       "    .dataframe thead th {\n",
       "        text-align: right;\n",
       "    }\n",
       "</style>\n",
       "<table border=\"1\" class=\"dataframe\">\n",
       "  <thead>\n",
       "    <tr style=\"text-align: right;\">\n",
       "      <th></th>\n",
       "      <th>imdb_id</th>\n",
       "      <th>adult</th>\n",
       "      <th>backdrop_path</th>\n",
       "      <th>belongs_to_collection</th>\n",
       "      <th>budget</th>\n",
       "      <th>genres</th>\n",
       "      <th>homepage</th>\n",
       "      <th>id</th>\n",
       "      <th>original_language</th>\n",
       "      <th>original_title</th>\n",
       "      <th>...</th>\n",
       "      <th>revenue</th>\n",
       "      <th>runtime</th>\n",
       "      <th>spoken_languages</th>\n",
       "      <th>status</th>\n",
       "      <th>tagline</th>\n",
       "      <th>title</th>\n",
       "      <th>video</th>\n",
       "      <th>vote_average</th>\n",
       "      <th>vote_count</th>\n",
       "      <th>certification</th>\n",
       "    </tr>\n",
       "  </thead>\n",
       "  <tbody>\n",
       "    <tr>\n",
       "      <th>0</th>\n",
       "      <td>0</td>\n",
       "      <td>NaN</td>\n",
       "      <td>NaN</td>\n",
       "      <td>NaN</td>\n",
       "      <td>NaN</td>\n",
       "      <td>NaN</td>\n",
       "      <td>NaN</td>\n",
       "      <td>NaN</td>\n",
       "      <td>NaN</td>\n",
       "      <td>NaN</td>\n",
       "      <td>...</td>\n",
       "      <td>NaN</td>\n",
       "      <td>NaN</td>\n",
       "      <td>NaN</td>\n",
       "      <td>NaN</td>\n",
       "      <td>NaN</td>\n",
       "      <td>NaN</td>\n",
       "      <td>NaN</td>\n",
       "      <td>NaN</td>\n",
       "      <td>NaN</td>\n",
       "      <td>NaN</td>\n",
       "    </tr>\n",
       "    <tr>\n",
       "      <th>1</th>\n",
       "      <td>tt0113026</td>\n",
       "      <td>0.0</td>\n",
       "      <td>/vMFs7nw6P0bIV1jDsQpxAieAVnH.jpg</td>\n",
       "      <td>NaN</td>\n",
       "      <td>10000000.0</td>\n",
       "      <td>[{'id': 35, 'name': 'Comedy'}, {'id': 10402, '...</td>\n",
       "      <td>NaN</td>\n",
       "      <td>62127.0</td>\n",
       "      <td>en</td>\n",
       "      <td>The Fantasticks</td>\n",
       "      <td>...</td>\n",
       "      <td>0.0</td>\n",
       "      <td>86.0</td>\n",
       "      <td>[{'english_name': 'English', 'iso_639_1': 'en'...</td>\n",
       "      <td>Released</td>\n",
       "      <td>Try to remember the first time magic happened</td>\n",
       "      <td>The Fantasticks</td>\n",
       "      <td>0.0</td>\n",
       "      <td>5.5</td>\n",
       "      <td>22.0</td>\n",
       "      <td>NaN</td>\n",
       "    </tr>\n",
       "  </tbody>\n",
       "</table>\n",
       "<p>2 rows × 26 columns</p>\n",
       "</div>"
      ],
      "text/plain": [
       "     imdb_id  adult                     backdrop_path belongs_to_collection  \\\n",
       "0          0    NaN                               NaN                   NaN   \n",
       "1  tt0113026    0.0  /vMFs7nw6P0bIV1jDsQpxAieAVnH.jpg                   NaN   \n",
       "\n",
       "       budget                                             genres homepage  \\\n",
       "0         NaN                                                NaN      NaN   \n",
       "1  10000000.0  [{'id': 35, 'name': 'Comedy'}, {'id': 10402, '...      NaN   \n",
       "\n",
       "        id original_language   original_title  ... revenue  runtime  \\\n",
       "0      NaN               NaN              NaN  ...     NaN      NaN   \n",
       "1  62127.0                en  The Fantasticks  ...     0.0     86.0   \n",
       "\n",
       "                                    spoken_languages    status  \\\n",
       "0                                                NaN       NaN   \n",
       "1  [{'english_name': 'English', 'iso_639_1': 'en'...  Released   \n",
       "\n",
       "                                         tagline            title  video  \\\n",
       "0                                            NaN              NaN    NaN   \n",
       "1  Try to remember the first time magic happened  The Fantasticks    0.0   \n",
       "\n",
       "   vote_average vote_count certification  \n",
       "0           NaN        NaN           NaN  \n",
       "1           5.5       22.0           NaN  \n",
       "\n",
       "[2 rows x 26 columns]"
      ]
     },
     "metadata": {},
     "output_type": "display_data"
    }
   ],
   "source": [
    "# Load in CSVs\n",
    "\n",
    "y2000 = pd.read_csv('Data/final_tmdb_data_2000.csv.gz')\n",
    "y2001 = pd.read_csv('Data/final_tmdb_data_2001.csv.gz')\n",
    "\n",
    "# Concat\n",
    "combined = pd.concat([y2000, y2001], axis = 0)\n",
    "display(combined.head(2))\n",
    "\n",
    "# Saving out merged csv.gz for all tmdb api data\n",
    "combined.to_csv('Data/tmdb_results_combined.csv.gz', compression = 'gzip', index = False)"
   ]
  },
  {
   "cell_type": "code",
   "execution_count": 80,
   "id": "d4983c1c",
   "metadata": {
    "scrolled": false
   },
   "outputs": [
    {
     "name": "stdout",
     "output_type": "stream",
     "text": [
      "<class 'pandas.core.frame.DataFrame'>\n",
      "Int64Index: 2527 entries, 0 to 1304\n",
      "Data columns (total 26 columns):\n",
      " #   Column                 Non-Null Count  Dtype  \n",
      "---  ------                 --------------  -----  \n",
      " 0   imdb_id                2527 non-null   object \n",
      " 1   adult                  2525 non-null   float64\n",
      " 2   backdrop_path          1351 non-null   object \n",
      " 3   belongs_to_collection  202 non-null    object \n",
      " 4   budget                 2525 non-null   float64\n",
      " 5   genres                 2525 non-null   object \n",
      " 6   homepage               169 non-null    object \n",
      " 7   id                     2525 non-null   float64\n",
      " 8   original_language      2525 non-null   object \n",
      " 9   original_title         2525 non-null   object \n",
      " 10  overview               2474 non-null   object \n",
      " 11  popularity             2525 non-null   float64\n",
      " 12  poster_path            2266 non-null   object \n",
      " 13  production_companies   2525 non-null   object \n",
      " 14  production_countries   2525 non-null   object \n",
      " 15  release_date           2510 non-null   object \n",
      " 16  revenue                2525 non-null   float64\n",
      " 17  runtime                2525 non-null   float64\n",
      " 18  spoken_languages       2525 non-null   object \n",
      " 19  status                 2525 non-null   object \n",
      " 20  tagline                1081 non-null   object \n",
      " 21  title                  2525 non-null   object \n",
      " 22  video                  2525 non-null   float64\n",
      " 23  vote_average           2525 non-null   float64\n",
      " 24  vote_count             2525 non-null   float64\n",
      " 25  certification          806 non-null    object \n",
      "dtypes: float64(9), object(17)\n",
      "memory usage: 533.0+ KB\n"
     ]
    }
   ],
   "source": [
    "combined.info()"
   ]
  },
  {
   "cell_type": "code",
   "execution_count": 81,
   "id": "e07da255",
   "metadata": {
    "scrolled": true
   },
   "outputs": [
    {
     "name": "stdout",
     "output_type": "stream",
     "text": [
      "1\n",
      "0\n"
     ]
    }
   ],
   "source": [
    "# Drop duplicate rows\n",
    "print(combined.duplicated().sum())\n",
    "combined.drop_duplicates(inplace = True)\n",
    "print(combined.duplicated().sum())"
   ]
  },
  {
   "cell_type": "code",
   "execution_count": 82,
   "id": "55346be9",
   "metadata": {},
   "outputs": [
    {
     "name": "stdout",
     "output_type": "stream",
     "text": [
      "There are 631 movies with some financial information\n"
     ]
    }
   ],
   "source": [
    "# 1. How many movies have finacial information?\n",
    "filter_finance = (combined['revenue'] > 0) | (combined['budget'] > 0)\n",
    "\n",
    "combined = combined.loc[filter_finance, :]\n",
    "print(f'There are {combined.shape[0]} movies with some financial information')"
   ]
  },
  {
   "cell_type": "code",
   "execution_count": 95,
   "id": "c1ade16d",
   "metadata": {
    "scrolled": false
   },
   "outputs": [
    {
     "name": "stdout",
     "output_type": "stream",
     "text": [
      "R        230\n",
      "PG-13    131\n",
      "PG        36\n",
      "NR        17\n",
      "G         14\n",
      "Name: certification, dtype: int64\n"
     ]
    },
    {
     "data": {
      "image/png": "[encoded data removed]",
      "text/plain": [
       "<Figure size 640x480 with 1 Axes>"
      ]
     },
     "metadata": {},
     "output_type": "display_data"
    }
   ],
   "source": [
    "# 2. How many movies are there in each of the certification categories\n",
    "make_bar(combined, 'certification', 'certification');\n",
    "print(combined['certification'].value_counts())"
   ]
  },
  {
   "cell_type": "code",
   "execution_count": 96,
   "id": "debdb282",
   "metadata": {},
   "outputs": [
    {
     "name": "stdout",
     "output_type": "stream",
     "text": [
      "R        230\n",
      "PG-13    131\n",
      "PG        36\n",
      "G         14\n",
      "Name: certification, dtype: int64\n"
     ]
    },
    {
     "data": {
      "image/png": "[encoded data removed]",
      "text/plain": [
       "<Figure size 640x480 with 1 Axes>"
      ]
     },
     "metadata": {},
     "output_type": "display_data"
    }
   ],
   "source": [
    "# 2. How many movies are there in each of the certification categories\n",
    "# but only for G/PG/PG-13/R\n",
    "\n",
    "combined_2 = combined.query('certification == [\"G\", \"PG\", \"PG-13\", \"R\"]')\n",
    "make_bar(combined_2, 'certification', 'certification');\n",
    "print(combined_2['certification'].value_counts())"
   ]
  },
  {
   "cell_type": "code",
   "execution_count": 93,
   "id": "866153f5",
   "metadata": {},
   "outputs": [
    {
     "name": "stdout",
     "output_type": "stream",
     "text": [
      "certification\n",
      "G        1.237463e+08\n",
      "PG       1.095338e+08\n",
      "PG-13    9.926299e+07\n",
      "R        3.306692e+07\n",
      "Name: revenue, dtype: float64\n"
     ]
    },
    {
     "data": {
      "image/png": "[encoded data removed]",
      "text/plain": [
       "<Figure size 640x480 with 1 Axes>"
      ]
     },
     "metadata": {},
     "output_type": "display_data"
    }
   ],
   "source": [
    "# 3. What is the average revenue per certification category\n",
    "\n",
    "# Barplot to answer question\n",
    "fig, ax = plt.subplots()\n",
    "sns.barplot(data = combined_2, x = 'certification', y = 'revenue', ax = ax, edgecolor = 'k');\n",
    "price_fmt_1M = FuncFormatter(million_m)\n",
    "ax.yaxis.set_major_formatter(price_fmt_1M)\n",
    "\n",
    "# Values to answer question\n",
    "print(combined_2.groupby('certification')['revenue'].mean())"
   ]
  },
  {
   "cell_type": "code",
   "execution_count": 92,
   "id": "6d1a9646",
   "metadata": {},
   "outputs": [
    {
     "name": "stdout",
     "output_type": "stream",
     "text": [
      "certification\n",
      "G        4.085714e+07\n",
      "PG       4.381937e+07\n",
      "PG-13    4.300884e+07\n",
      "R        1.966089e+07\n",
      "Name: budget, dtype: float64\n"
     ]
    },
    {
     "data": {
      "image/png": "[encoded data removed]",
      "text/plain": [
       "<Figure size 640x480 with 1 Axes>"
      ]
     },
     "metadata": {},
     "output_type": "display_data"
    }
   ],
   "source": [
    "# 4. What is the average budget per certification category\n",
    "\n",
    "# Barplot to answer question\n",
    "fig, ax = plt.subplots()\n",
    "sns.barplot(data = combined_2, x = 'certification', y = 'budget', ax = ax, edgecolor = 'k');\n",
    "price_fmt_1M = FuncFormatter(million_m)\n",
    "ax.yaxis.set_major_formatter(price_fmt_1M)\n",
    "\n",
    "# Values to answer question\n",
    "print(combined_2.groupby('certification')['budget'].mean())"
   ]
  },
  {
   "cell_type": "code",
   "execution_count": null,
   "id": "8bcdce3b",
   "metadata": {},
   "outputs": [],
   "source": []
  }
 ],
 "metadata": {
  "kernelspec": {
   "display_name": "Python (dojo-env)",
   "language": "python",
   "name": "dojo-env"
  },
  "language_info": {
   "codemirror_mode": {
    "name": "ipython",
    "version": 3
   },
   "file_extension": ".py",
   "mimetype": "text/x-python",
   "name": "python",
   "nbconvert_exporter": "python",
   "pygments_lexer": "ipython3",
   "version": "3.9.15"
  },
  "toc": {
   "base_numbering": 1,
   "nav_menu": {},
   "number_sections": false,
   "sideBar": true,
   "skip_h1_title": false,
   "title_cell": "Table of Contents",
   "title_sidebar": "Contents",
   "toc_cell": false,
   "toc_position": {},
   "toc_section_display": true,
   "toc_window_display": false
  }
 },
 "nbformat": 4,
 "nbformat_minor": 5
}
